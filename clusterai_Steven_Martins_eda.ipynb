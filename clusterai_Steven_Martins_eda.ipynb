{
 "cells": [
  {
   "cell_type": "markdown",
   "id": "a13d5664",
   "metadata": {},
   "source": [
    "## Exploratory Data Analysis - Locales en Venta en CABA"
   ]
  },
  {
   "cell_type": "markdown",
   "id": "9411452b",
   "metadata": {},
   "source": [
    "#### Importamos librerías relevantes\n",
    "Pandas para manejo de data, numpy para operaciones matemáticas, matplolib y seaborn para graficar."
   ]
  },
  {
   "cell_type": "code",
   "execution_count": 1,
   "id": "307a0852",
   "metadata": {},
   "outputs": [],
   "source": [
    "import pandas as pd\n",
    "import numpy as np\n",
    "import matplotlib.pyplot as plt\n",
    "import seaborn as sns"
   ]
  },
  {
   "cell_type": "markdown",
   "id": "cd5afc5f",
   "metadata": {},
   "source": [
    "#### Locales en venta en CABA - 2020\n",
    "##### Pre-procesamiento\n",
    "El objetivo de este trabajo es predecir el precio de un local en la Ciudad de Buenos Aires a partir de la data disponible en el portal de información del Gobierno de la Ciudad para el 2020: https://data.buenosaires.gob.ar/dataset/locales-en-venta\n",
    "Para lograr esto, en primera instancia se analizará este dataset y se lo limpiará en caso de que sea necesario."
   ]
  },
  {
   "cell_type": "markdown",
   "id": "3beb712f",
   "metadata": {},
   "source": [
    "Leemos el dataset y lo almacenamos en un dataframe:"
   ]
  },
  {
   "cell_type": "code",
   "execution_count": 2,
   "id": "24e00fda",
   "metadata": {},
   "outputs": [
    {
     "name": "stdout",
     "output_type": "stream",
     "text": [
      "Hay un total de 6575 filas en el base de datos.\n"
     ]
    },
    {
     "data": {
      "text/html": [
       "<div>\n",
       "<style scoped>\n",
       "    .dataframe tbody tr th:only-of-type {\n",
       "        vertical-align: middle;\n",
       "    }\n",
       "\n",
       "    .dataframe tbody tr th {\n",
       "        vertical-align: top;\n",
       "    }\n",
       "\n",
       "    .dataframe thead th {\n",
       "        text-align: right;\n",
       "    }\n",
       "</style>\n",
       "<table border=\"1\" class=\"dataframe\">\n",
       "  <thead>\n",
       "    <tr style=\"text-align: right;\">\n",
       "      <th></th>\n",
       "      <th>DIRECCION</th>\n",
       "      <th>PROPIEDADS</th>\n",
       "      <th>PRECIOUSD</th>\n",
       "      <th>PRECIOPESO</th>\n",
       "      <th>USDM2</th>\n",
       "      <th>PESOSM2</th>\n",
       "      <th>ANTIG</th>\n",
       "      <th>EN_GALERIA</th>\n",
       "      <th>COTIZ_</th>\n",
       "      <th>TRIMESTRE_</th>\n",
       "      <th>BARRIOS_</th>\n",
       "      <th>COMUNA_</th>\n",
       "    </tr>\n",
       "  </thead>\n",
       "  <tbody>\n",
       "    <tr>\n",
       "      <th>0</th>\n",
       "      <td>ACUÑA DE FIGUEROA, FRANCISCO 1000</td>\n",
       "      <td>26</td>\n",
       "      <td>87000</td>\n",
       "      <td>5481000</td>\n",
       "      <td>3346</td>\n",
       "      <td>3346</td>\n",
       "      <td>5</td>\n",
       "      <td>SI</td>\n",
       "      <td>63</td>\n",
       "      <td>PRIMER</td>\n",
       "      <td>ALMAGRO</td>\n",
       "      <td>5</td>\n",
       "    </tr>\n",
       "    <tr>\n",
       "      <th>1</th>\n",
       "      <td>ACUÑA DE FIGUEROA, FRANCISCO 400</td>\n",
       "      <td>34</td>\n",
       "      <td>92000</td>\n",
       "      <td>5796000</td>\n",
       "      <td>2706</td>\n",
       "      <td>2706</td>\n",
       "      <td>45</td>\n",
       "      <td>NO</td>\n",
       "      <td>63</td>\n",
       "      <td>PRIMER</td>\n",
       "      <td>ALMAGRO</td>\n",
       "      <td>5</td>\n",
       "    </tr>\n",
       "    <tr>\n",
       "      <th>2</th>\n",
       "      <td>ACUÑA DE FIGUEROA, FRANCISCO 900</td>\n",
       "      <td>60</td>\n",
       "      <td>110000</td>\n",
       "      <td>6930000</td>\n",
       "      <td>1833</td>\n",
       "      <td>1833</td>\n",
       "      <td>0</td>\n",
       "      <td>NO</td>\n",
       "      <td>63</td>\n",
       "      <td>PRIMER</td>\n",
       "      <td>ALMAGRO</td>\n",
       "      <td>5</td>\n",
       "    </tr>\n",
       "    <tr>\n",
       "      <th>3</th>\n",
       "      <td>ACUÑA DE FIGUEROA, FRANCISCO 909</td>\n",
       "      <td>29</td>\n",
       "      <td>60000</td>\n",
       "      <td>3780000</td>\n",
       "      <td>2069</td>\n",
       "      <td>2069</td>\n",
       "      <td>40</td>\n",
       "      <td>NO</td>\n",
       "      <td>63</td>\n",
       "      <td>PRIMER</td>\n",
       "      <td>ALMAGRO</td>\n",
       "      <td>5</td>\n",
       "    </tr>\n",
       "    <tr>\n",
       "      <th>4</th>\n",
       "      <td>BELGRANO 3800</td>\n",
       "      <td>334</td>\n",
       "      <td>380000</td>\n",
       "      <td>23940000</td>\n",
       "      <td>1138</td>\n",
       "      <td>1138</td>\n",
       "      <td>65</td>\n",
       "      <td>NO</td>\n",
       "      <td>63</td>\n",
       "      <td>PRIMER</td>\n",
       "      <td>ALMAGRO</td>\n",
       "      <td>5</td>\n",
       "    </tr>\n",
       "  </tbody>\n",
       "</table>\n",
       "</div>"
      ],
      "text/plain": [
       "                           DIRECCION  PROPIEDADS  PRECIOUSD  PRECIOPESO  \\\n",
       "0  ACUÑA DE FIGUEROA, FRANCISCO 1000          26      87000     5481000   \n",
       "1   ACUÑA DE FIGUEROA, FRANCISCO 400          34      92000     5796000   \n",
       "2   ACUÑA DE FIGUEROA, FRANCISCO 900          60     110000     6930000   \n",
       "3   ACUÑA DE FIGUEROA, FRANCISCO 909          29      60000     3780000   \n",
       "4                      BELGRANO 3800         334     380000    23940000   \n",
       "\n",
       "   USDM2  PESOSM2  ANTIG EN_GALERIA  COTIZ_ TRIMESTRE_ BARRIOS_  COMUNA_  \n",
       "0   3346     3346      5         SI      63     PRIMER  ALMAGRO        5  \n",
       "1   2706     2706     45         NO      63     PRIMER  ALMAGRO        5  \n",
       "2   1833     1833      0         NO      63     PRIMER  ALMAGRO        5  \n",
       "3   2069     2069     40         NO      63     PRIMER  ALMAGRO        5  \n",
       "4   1138     1138     65         NO      63     PRIMER  ALMAGRO        5  "
      ]
     },
     "execution_count": 2,
     "metadata": {},
     "output_type": "execute_result"
    }
   ],
   "source": [
    "df = pd.read_csv('https://cdn.buenosaires.gob.ar/datosabiertos/datasets/secretaria-de-desarrollo-urbano/locales-en-venta/locales-en-venta-2020.csv')\n",
    "print('Hay un total de {} filas en el base de datos.'.format(len(df.index)))\n",
    "df.head()"
   ]
  },
  {
   "cell_type": "markdown",
   "id": "5fa6f1a7",
   "metadata": {},
   "source": [
    "Pasamos las columnas a minúscula y renombramos algunos nombres."
   ]
  },
  {
   "cell_type": "code",
   "execution_count": 3,
   "id": "660ecf4f",
   "metadata": {},
   "outputs": [
    {
     "data": {
      "text/html": [
       "<div>\n",
       "<style scoped>\n",
       "    .dataframe tbody tr th:only-of-type {\n",
       "        vertical-align: middle;\n",
       "    }\n",
       "\n",
       "    .dataframe tbody tr th {\n",
       "        vertical-align: top;\n",
       "    }\n",
       "\n",
       "    .dataframe thead th {\n",
       "        text-align: right;\n",
       "    }\n",
       "</style>\n",
       "<table border=\"1\" class=\"dataframe\">\n",
       "  <thead>\n",
       "    <tr style=\"text-align: right;\">\n",
       "      <th></th>\n",
       "      <th>direccion</th>\n",
       "      <th>m2</th>\n",
       "      <th>preciousd</th>\n",
       "      <th>preciopeso</th>\n",
       "      <th>usdm2</th>\n",
       "      <th>pesosm2</th>\n",
       "      <th>antig</th>\n",
       "      <th>galeria</th>\n",
       "      <th>dolar</th>\n",
       "      <th>trimestre_</th>\n",
       "      <th>barrios</th>\n",
       "      <th>comuna</th>\n",
       "    </tr>\n",
       "  </thead>\n",
       "  <tbody>\n",
       "    <tr>\n",
       "      <th>0</th>\n",
       "      <td>ACUÑA DE FIGUEROA, FRANCISCO 1000</td>\n",
       "      <td>26</td>\n",
       "      <td>87000</td>\n",
       "      <td>5481000</td>\n",
       "      <td>3346</td>\n",
       "      <td>3346</td>\n",
       "      <td>5</td>\n",
       "      <td>SI</td>\n",
       "      <td>63</td>\n",
       "      <td>PRIMER</td>\n",
       "      <td>ALMAGRO</td>\n",
       "      <td>5</td>\n",
       "    </tr>\n",
       "    <tr>\n",
       "      <th>1</th>\n",
       "      <td>ACUÑA DE FIGUEROA, FRANCISCO 400</td>\n",
       "      <td>34</td>\n",
       "      <td>92000</td>\n",
       "      <td>5796000</td>\n",
       "      <td>2706</td>\n",
       "      <td>2706</td>\n",
       "      <td>45</td>\n",
       "      <td>NO</td>\n",
       "      <td>63</td>\n",
       "      <td>PRIMER</td>\n",
       "      <td>ALMAGRO</td>\n",
       "      <td>5</td>\n",
       "    </tr>\n",
       "    <tr>\n",
       "      <th>2</th>\n",
       "      <td>ACUÑA DE FIGUEROA, FRANCISCO 900</td>\n",
       "      <td>60</td>\n",
       "      <td>110000</td>\n",
       "      <td>6930000</td>\n",
       "      <td>1833</td>\n",
       "      <td>1833</td>\n",
       "      <td>0</td>\n",
       "      <td>NO</td>\n",
       "      <td>63</td>\n",
       "      <td>PRIMER</td>\n",
       "      <td>ALMAGRO</td>\n",
       "      <td>5</td>\n",
       "    </tr>\n",
       "    <tr>\n",
       "      <th>3</th>\n",
       "      <td>ACUÑA DE FIGUEROA, FRANCISCO 909</td>\n",
       "      <td>29</td>\n",
       "      <td>60000</td>\n",
       "      <td>3780000</td>\n",
       "      <td>2069</td>\n",
       "      <td>2069</td>\n",
       "      <td>40</td>\n",
       "      <td>NO</td>\n",
       "      <td>63</td>\n",
       "      <td>PRIMER</td>\n",
       "      <td>ALMAGRO</td>\n",
       "      <td>5</td>\n",
       "    </tr>\n",
       "    <tr>\n",
       "      <th>4</th>\n",
       "      <td>BELGRANO 3800</td>\n",
       "      <td>334</td>\n",
       "      <td>380000</td>\n",
       "      <td>23940000</td>\n",
       "      <td>1138</td>\n",
       "      <td>1138</td>\n",
       "      <td>65</td>\n",
       "      <td>NO</td>\n",
       "      <td>63</td>\n",
       "      <td>PRIMER</td>\n",
       "      <td>ALMAGRO</td>\n",
       "      <td>5</td>\n",
       "    </tr>\n",
       "  </tbody>\n",
       "</table>\n",
       "</div>"
      ],
      "text/plain": [
       "                           direccion   m2  preciousd  preciopeso  usdm2  \\\n",
       "0  ACUÑA DE FIGUEROA, FRANCISCO 1000   26      87000     5481000   3346   \n",
       "1   ACUÑA DE FIGUEROA, FRANCISCO 400   34      92000     5796000   2706   \n",
       "2   ACUÑA DE FIGUEROA, FRANCISCO 900   60     110000     6930000   1833   \n",
       "3   ACUÑA DE FIGUEROA, FRANCISCO 909   29      60000     3780000   2069   \n",
       "4                      BELGRANO 3800  334     380000    23940000   1138   \n",
       "\n",
       "   pesosm2  antig galeria  dolar trimestre_  barrios  comuna  \n",
       "0     3346      5      SI     63     PRIMER  ALMAGRO       5  \n",
       "1     2706     45      NO     63     PRIMER  ALMAGRO       5  \n",
       "2     1833      0      NO     63     PRIMER  ALMAGRO       5  \n",
       "3     2069     40      NO     63     PRIMER  ALMAGRO       5  \n",
       "4     1138     65      NO     63     PRIMER  ALMAGRO       5  "
      ]
     },
     "execution_count": 3,
     "metadata": {},
     "output_type": "execute_result"
    }
   ],
   "source": [
    "df.columns = map(str.lower, df.columns)\n",
    "df.rename(columns={\"propiedads\": \"m2\",\n",
    "                   \"en_galeria\": \"galeria\",\n",
    "                   \"cotiz_\": \"dolar\",\n",
    "                   \"barrios_\": \"barrios\",\n",
    "                   \"comuna_\": \"comuna\",\n",
    "                  },\n",
    "          inplace=True)\n",
    "df.head()"
   ]
  },
  {
   "cell_type": "code",
   "execution_count": 4,
   "id": "d157a516",
   "metadata": {},
   "outputs": [
    {
     "data": {
      "text/html": [
       "<div>\n",
       "<style scoped>\n",
       "    .dataframe tbody tr th:only-of-type {\n",
       "        vertical-align: middle;\n",
       "    }\n",
       "\n",
       "    .dataframe tbody tr th {\n",
       "        vertical-align: top;\n",
       "    }\n",
       "\n",
       "    .dataframe thead th {\n",
       "        text-align: right;\n",
       "    }\n",
       "</style>\n",
       "<table border=\"1\" class=\"dataframe\">\n",
       "  <thead>\n",
       "    <tr style=\"text-align: right;\">\n",
       "      <th></th>\n",
       "      <th>m2</th>\n",
       "      <th>preciousd</th>\n",
       "      <th>usdm2</th>\n",
       "      <th>antig</th>\n",
       "    </tr>\n",
       "  </thead>\n",
       "  <tbody>\n",
       "    <tr>\n",
       "      <th>mean</th>\n",
       "      <td>208</td>\n",
       "      <td>438061</td>\n",
       "      <td>2767</td>\n",
       "      <td>11</td>\n",
       "    </tr>\n",
       "    <tr>\n",
       "      <th>std</th>\n",
       "      <td>483</td>\n",
       "      <td>778170</td>\n",
       "      <td>1990</td>\n",
       "      <td>20</td>\n",
       "    </tr>\n",
       "    <tr>\n",
       "      <th>min</th>\n",
       "      <td>5</td>\n",
       "      <td>6500</td>\n",
       "      <td>316</td>\n",
       "      <td>0</td>\n",
       "    </tr>\n",
       "    <tr>\n",
       "      <th>max</th>\n",
       "      <td>16798</td>\n",
       "      <td>20000000</td>\n",
       "      <td>22400</td>\n",
       "      <td>160</td>\n",
       "    </tr>\n",
       "  </tbody>\n",
       "</table>\n",
       "</div>"
      ],
      "text/plain": [
       "        m2  preciousd  usdm2  antig\n",
       "mean   208     438061   2767     11\n",
       "std    483     778170   1990     20\n",
       "min      5       6500    316      0\n",
       "max  16798   20000000  22400    160"
      ]
     },
     "execution_count": 4,
     "metadata": {},
     "output_type": "execute_result"
    }
   ],
   "source": [
    "pd.set_option('display.float_format', lambda x: '%.0f' % x)\n",
    "df[['m2', 'preciousd', 'usdm2', 'antig']].describe().loc[['mean', 'std', 'min', 'max']]\n",
    "# Por si necesitamos resetear el formato\n",
    "# pd.reset_option('display.float_format')"
   ]
  },
  {
   "cell_type": "markdown",
   "id": "7a632a59",
   "metadata": {},
   "source": [
    "Se pueden ver las siguientes columnas:"
   ]
  },
  {
   "cell_type": "code",
   "execution_count": 5,
   "id": "e17fe1ad",
   "metadata": {},
   "outputs": [
    {
     "name": "stdout",
     "output_type": "stream",
     "text": [
      "['direccion', 'm2', 'preciousd', 'preciopeso', 'usdm2', 'pesosm2', 'antig', 'galeria', 'dolar', 'trimestre_', 'barrios', 'comuna']\n"
     ]
    }
   ],
   "source": [
    "print(list(df))"
   ]
  },
  {
   "cell_type": "markdown",
   "id": "17d4a78e",
   "metadata": {},
   "source": [
    "Se descartan las columnas irrelevantes:\n",
    "- direccion\n",
    "- preciopeso\n",
    "- pesosm2\n",
    "- dolar\n",
    "- trimestre_"
   ]
  },
  {
   "cell_type": "code",
   "execution_count": 6,
   "id": "755e8ac8",
   "metadata": {},
   "outputs": [
    {
     "data": {
      "text/html": [
       "<div>\n",
       "<style scoped>\n",
       "    .dataframe tbody tr th:only-of-type {\n",
       "        vertical-align: middle;\n",
       "    }\n",
       "\n",
       "    .dataframe tbody tr th {\n",
       "        vertical-align: top;\n",
       "    }\n",
       "\n",
       "    .dataframe thead th {\n",
       "        text-align: right;\n",
       "    }\n",
       "</style>\n",
       "<table border=\"1\" class=\"dataframe\">\n",
       "  <thead>\n",
       "    <tr style=\"text-align: right;\">\n",
       "      <th></th>\n",
       "      <th>m2</th>\n",
       "      <th>preciousd</th>\n",
       "      <th>usdm2</th>\n",
       "      <th>antig</th>\n",
       "      <th>galeria</th>\n",
       "      <th>barrios</th>\n",
       "      <th>comuna</th>\n",
       "    </tr>\n",
       "  </thead>\n",
       "  <tbody>\n",
       "    <tr>\n",
       "      <th>0</th>\n",
       "      <td>26</td>\n",
       "      <td>87000</td>\n",
       "      <td>3346</td>\n",
       "      <td>5</td>\n",
       "      <td>SI</td>\n",
       "      <td>ALMAGRO</td>\n",
       "      <td>5</td>\n",
       "    </tr>\n",
       "    <tr>\n",
       "      <th>1</th>\n",
       "      <td>34</td>\n",
       "      <td>92000</td>\n",
       "      <td>2706</td>\n",
       "      <td>45</td>\n",
       "      <td>NO</td>\n",
       "      <td>ALMAGRO</td>\n",
       "      <td>5</td>\n",
       "    </tr>\n",
       "    <tr>\n",
       "      <th>2</th>\n",
       "      <td>60</td>\n",
       "      <td>110000</td>\n",
       "      <td>1833</td>\n",
       "      <td>0</td>\n",
       "      <td>NO</td>\n",
       "      <td>ALMAGRO</td>\n",
       "      <td>5</td>\n",
       "    </tr>\n",
       "    <tr>\n",
       "      <th>3</th>\n",
       "      <td>29</td>\n",
       "      <td>60000</td>\n",
       "      <td>2069</td>\n",
       "      <td>40</td>\n",
       "      <td>NO</td>\n",
       "      <td>ALMAGRO</td>\n",
       "      <td>5</td>\n",
       "    </tr>\n",
       "    <tr>\n",
       "      <th>4</th>\n",
       "      <td>334</td>\n",
       "      <td>380000</td>\n",
       "      <td>1138</td>\n",
       "      <td>65</td>\n",
       "      <td>NO</td>\n",
       "      <td>ALMAGRO</td>\n",
       "      <td>5</td>\n",
       "    </tr>\n",
       "  </tbody>\n",
       "</table>\n",
       "</div>"
      ],
      "text/plain": [
       "    m2  preciousd  usdm2  antig galeria  barrios  comuna\n",
       "0   26      87000   3346      5      SI  ALMAGRO       5\n",
       "1   34      92000   2706     45      NO  ALMAGRO       5\n",
       "2   60     110000   1833      0      NO  ALMAGRO       5\n",
       "3   29      60000   2069     40      NO  ALMAGRO       5\n",
       "4  334     380000   1138     65      NO  ALMAGRO       5"
      ]
     },
     "execution_count": 6,
     "metadata": {},
     "output_type": "execute_result"
    }
   ],
   "source": [
    "df = df.drop(axis=1, columns=['direccion', 'preciopeso', 'pesosm2', 'dolar', 'trimestre_'])\n",
    "df.head()"
   ]
  },
  {
   "cell_type": "markdown",
   "id": "907e679f",
   "metadata": {},
   "source": [
    "Detectamos si los barrios y la variable galeria tienen datos consistentes y buscamos posibles errores. También buscamos valores "
   ]
  },
  {
   "cell_type": "code",
   "execution_count": 7,
   "id": "6fe5e7c2",
   "metadata": {},
   "outputs": [
    {
     "name": "stdout",
     "output_type": "stream",
     "text": [
      "Barrios ordenados: ['AGRONOMIA', 'ALMAGRO', 'BALVANERA', 'BARRACAS ESTE', 'BELGRANO', 'BOCA', 'BOEDO', 'CABALLITO', 'CHACARITA', 'COGHLAN', 'COLEGIALES', 'CONSTITUCION', 'FLORES NORTE', 'FLORES SUR', 'FLORESTA', 'LINIERS', 'MATADEROS', 'MONTE CASTRO', 'MONTSERRAT', 'NUEVA POMPEYA', 'NUÑEZ', 'PALERMO', 'PARQUE AVELLANEDA', 'PARQUE CHACABUCO', 'PARQUE CHAS', 'PARQUE PATRICIOS', 'PATERNAL', 'PUERTO MADERO', 'RECOLETA', 'RETIRO', 'SAAVEDRA', 'SAN CRISTOBAL', 'SAN NICOLAS', 'SAN TELMO', 'VELEZ SARSFIELD', 'VERSALLES', 'VILLA CRESPO', 'VILLA DEL PARQUE', 'VILLA DEVOTO NORTE', 'VILLA DEVOTO SUR', 'VILLA GRAL. MITRE', 'VILLA LUGANO', 'VILLA LURO', 'VILLA ORTUZAR', 'VILLA PUEYRREDON', 'VILLA REAL', 'VILLA RIACHUELO', 'VILLA SANTA RITA', 'VILLA SOLDATI', 'VILLA URQUIZA']\n",
      "Valores de galeria: ['SI' 'NO' nan 'S1']\n"
     ]
    },
    {
     "data": {
      "text/plain": [
       "m2              0\n",
       "preciousd       0\n",
       "usdm2           0\n",
       "antig           0\n",
       "galeria      4520\n",
       "barrios         0\n",
       "comuna          0\n",
       "dtype: int64"
      ]
     },
     "execution_count": 7,
     "metadata": {},
     "output_type": "execute_result"
    }
   ],
   "source": [
    "print('Barrios ordenados: ' + str(sorted(df.barrios.unique())))\n",
    "print('Valores de galeria: ' + str(df.galeria.unique()))\n",
    "df.isna().sum()"
   ]
  },
  {
   "cell_type": "markdown",
   "id": "14866766",
   "metadata": {},
   "source": [
    "Los barrios no presentan inconvenientes, pero hay una cantidad importante de valores vacíos en galería, y además hay valores en galería iguales a 'S1' en lugar de 'SI'. Asumiremos que los valores vacíos representan locales que no se encuentran en galerías."
   ]
  },
  {
   "cell_type": "code",
   "execution_count": 8,
   "id": "d7b35b05",
   "metadata": {},
   "outputs": [
    {
     "name": "stdout",
     "output_type": "stream",
     "text": [
      "Valores de galeria: ['SI' 'NO']\n"
     ]
    },
    {
     "data": {
      "text/html": [
       "<div>\n",
       "<style scoped>\n",
       "    .dataframe tbody tr th:only-of-type {\n",
       "        vertical-align: middle;\n",
       "    }\n",
       "\n",
       "    .dataframe tbody tr th {\n",
       "        vertical-align: top;\n",
       "    }\n",
       "\n",
       "    .dataframe thead th {\n",
       "        text-align: right;\n",
       "    }\n",
       "</style>\n",
       "<table border=\"1\" class=\"dataframe\">\n",
       "  <thead>\n",
       "    <tr style=\"text-align: right;\">\n",
       "      <th></th>\n",
       "      <th>index</th>\n",
       "      <th>na</th>\n",
       "      <th>null</th>\n",
       "    </tr>\n",
       "  </thead>\n",
       "  <tbody>\n",
       "    <tr>\n",
       "      <th>0</th>\n",
       "      <td>m2</td>\n",
       "      <td>0</td>\n",
       "      <td>0</td>\n",
       "    </tr>\n",
       "    <tr>\n",
       "      <th>1</th>\n",
       "      <td>preciousd</td>\n",
       "      <td>0</td>\n",
       "      <td>0</td>\n",
       "    </tr>\n",
       "    <tr>\n",
       "      <th>2</th>\n",
       "      <td>usdm2</td>\n",
       "      <td>0</td>\n",
       "      <td>0</td>\n",
       "    </tr>\n",
       "    <tr>\n",
       "      <th>3</th>\n",
       "      <td>antig</td>\n",
       "      <td>0</td>\n",
       "      <td>0</td>\n",
       "    </tr>\n",
       "    <tr>\n",
       "      <th>4</th>\n",
       "      <td>galeria</td>\n",
       "      <td>0</td>\n",
       "      <td>0</td>\n",
       "    </tr>\n",
       "    <tr>\n",
       "      <th>5</th>\n",
       "      <td>barrios</td>\n",
       "      <td>0</td>\n",
       "      <td>0</td>\n",
       "    </tr>\n",
       "    <tr>\n",
       "      <th>6</th>\n",
       "      <td>comuna</td>\n",
       "      <td>0</td>\n",
       "      <td>0</td>\n",
       "    </tr>\n",
       "  </tbody>\n",
       "</table>\n",
       "</div>"
      ],
      "text/plain": [
       "       index  na  null\n",
       "0         m2   0     0\n",
       "1  preciousd   0     0\n",
       "2      usdm2   0     0\n",
       "3      antig   0     0\n",
       "4    galeria   0     0\n",
       "5    barrios   0     0\n",
       "6     comuna   0     0"
      ]
     },
     "execution_count": 8,
     "metadata": {},
     "output_type": "execute_result"
    }
   ],
   "source": [
    "df.galeria.fillna('NO', inplace=True)\n",
    "df.galeria.replace(to_replace='S1', value='SI', inplace=True)\n",
    "print('Valores de galeria: ' + str(df.galeria.unique()))\n",
    "show=pd.DataFrame({\n",
    "    'index':df.isnull().sum().index,\n",
    "    'na':df.isna().sum().values,\n",
    "    'null':df.isnull().sum().values\n",
    "})\n",
    "show"
   ]
  },
  {
   "cell_type": "markdown",
   "id": "bcc3be4d",
   "metadata": {},
   "source": [
    "#### Análisis exploratorio\n",
    "Graficamos precio promedio por barrio, por comuna, ver si aumenta el precio por estar en galeria o no."
   ]
  },
  {
   "cell_type": "code",
   "execution_count": null,
   "id": "e676d587",
   "metadata": {},
   "outputs": [],
   "source": []
  }
 ],
 "metadata": {
  "kernelspec": {
   "display_name": "Python 3 (ipykernel)",
   "language": "python",
   "name": "python3"
  },
  "language_info": {
   "codemirror_mode": {
    "name": "ipython",
    "version": 3
   },
   "file_extension": ".py",
   "mimetype": "text/x-python",
   "name": "python",
   "nbconvert_exporter": "python",
   "pygments_lexer": "ipython3",
   "version": "3.9.6"
  }
 },
 "nbformat": 4,
 "nbformat_minor": 5
}
