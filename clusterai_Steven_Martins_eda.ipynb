{
 "cells": [
  {
   "cell_type": "markdown",
   "id": "a13d5664",
   "metadata": {},
   "source": [
    "## Exploratory Data Analysis - Locales en Venta en CABA"
   ]
  },
  {
   "cell_type": "markdown",
   "id": "9411452b",
   "metadata": {},
   "source": [
    "#### Importamos librerías relevantes\n",
    "Pandas para manejo de data, numpy para operaciones matemáticas, matplolib y seaborn para graficar."
   ]
  },
  {
   "cell_type": "code",
   "execution_count": null,
   "id": "307a0852",
   "metadata": {},
   "outputs": [],
   "source": [
    "import pandas as pd\n",
    "import numpy as np\n",
    "import matplotlib.pyplot as plt\n",
    "import seaborn as sns"
   ]
  },
  {
   "cell_type": "markdown",
   "id": "cd5afc5f",
   "metadata": {},
   "source": [
    "#### Locales en venta en CABA - 2020\n",
    "##### Pre-procesamiento\n",
    "El objetivo de este trabajo es predecir el precio de un local en la Ciudad de Buenos Aires a partir de la data disponible en el portal de información del Gobierno de la Ciudad para el 2020: https://data.buenosaires.gob.ar/dataset/locales-en-venta\n",
    "Para lograr esto, en primera instancia se analizará este dataset y se lo limpiará en caso de que sea necesario."
   ]
  },
  {
   "cell_type": "markdown",
   "id": "3beb712f",
   "metadata": {},
   "source": [
    "Leemos el dataset y lo almacenamos en un dataframe:"
   ]
  },
  {
   "cell_type": "code",
   "execution_count": null,
   "id": "24e00fda",
   "metadata": {},
   "outputs": [],
   "source": [
    "df = pd.read_csv('https://cdn.buenosaires.gob.ar/datosabiertos/datasets/secretaria-de-desarrollo-urbano/locales-en-venta/locales-en-venta-2020.csv')\n",
    "print('Hay un total de {} filas en el base de datos.'.format(len(df.index)))\n",
    "df.head()"
   ]
  },
  {
   "cell_type": "markdown",
   "id": "5fa6f1a7",
   "metadata": {},
   "source": [
    "Pasamos las columnas a minúscula y renombramos algunos nombres."
   ]
  },
  {
   "cell_type": "code",
   "execution_count": null,
   "id": "660ecf4f",
   "metadata": {},
   "outputs": [],
   "source": [
    "df.columns = map(str.lower, df.columns)\n",
    "df.rename(columns={\"propiedads\": \"m2\",\n",
    "                   \"en_galeria\": \"galeria\",\n",
    "                   \"cotiz_\": \"dolar\",\n",
    "                   \"barrios_\": \"barrios\",\n",
    "                   \"comuna_\": \"comuna\",\n",
    "                  },\n",
    "          inplace=True)\n",
    "df.head()"
   ]
  },
  {
   "cell_type": "code",
   "execution_count": null,
   "id": "d157a516",
   "metadata": {},
   "outputs": [],
   "source": [
    "pd.set_option('display.float_format', lambda x: '%.0f' % x)\n",
    "df[['m2', 'preciousd', 'usdm2', 'antig']].describe().loc[['mean', 'std', 'min', 'max']]\n",
    "# Por si necesitamos resetear el formato\n",
    "# pd.reset_option('display.float_format')"
   ]
  },
  {
   "cell_type": "markdown",
   "id": "7a632a59",
   "metadata": {},
   "source": [
    "Se pueden ver las siguientes columnas:"
   ]
  },
  {
   "cell_type": "code",
   "execution_count": null,
   "id": "e17fe1ad",
   "metadata": {},
   "outputs": [],
   "source": [
    "print(list(df))"
   ]
  },
  {
   "cell_type": "markdown",
   "id": "17d4a78e",
   "metadata": {},
   "source": [
    "Se descartan las columnas irrelevantes:\n",
    "- direccion\n",
    "- preciopeso\n",
    "- pesosm2\n",
    "- dolar\n",
    "- trimestre_"
   ]
  },
  {
   "cell_type": "code",
   "execution_count": null,
   "id": "755e8ac8",
   "metadata": {},
   "outputs": [],
   "source": [
    "df = df.drop(axis=1, columns=['direccion', 'preciopeso', 'pesosm2', 'dolar', 'trimestre_'])\n",
    "df.head()"
   ]
  },
  {
   "cell_type": "markdown",
   "id": "907e679f",
   "metadata": {},
   "source": [
    "Detectamos si los barrios y la variable galeria tienen datos consistentes y buscamos posibles errores. También buscamos valores "
   ]
  },
  {
   "cell_type": "code",
   "execution_count": null,
   "id": "6fe5e7c2",
   "metadata": {},
   "outputs": [],
   "source": [
    "print('Barrios ordenados: ' + str(sorted(df.barrios.unique())))\n",
    "print('Valores de galeria: ' + str(df.galeria.unique()))\n",
    "df.isna().sum()"
   ]
  },
  {
   "cell_type": "markdown",
   "id": "14866766",
   "metadata": {},
   "source": [
    "Los barrios no presentan inconvenientes, pero hay una cantidad importante de valores vacíos en galería, y además hay valores en galería iguales a 'S1' en lugar de 'SI'. Asumiremos que los valores vacíos representan locales que no se encuentran en galerías."
   ]
  },
  {
   "cell_type": "code",
   "execution_count": null,
   "id": "d7b35b05",
   "metadata": {},
   "outputs": [],
   "source": [
    "df.galeria.fillna('NO', inplace=True)\n",
    "df.galeria.replace(to_replace='S1', value='SI', inplace=True)\n",
    "print('Valores de galeria: ' + str(df.galeria.unique()))\n",
    "show=pd.DataFrame({\n",
    "    'variable':df.isnull().sum().index,\n",
    "    'na':df.isna().sum().values,\n",
    "    'null':df.isnull().sum().values\n",
    "})\n",
    "show"
   ]
  },
  {
   "cell_type": "markdown",
   "id": "e6a743d3",
   "metadata": {},
   "source": [
    "Chequeamos que los valores sean del tipo correcto."
   ]
  },
  {
   "cell_type": "code",
   "execution_count": null,
   "id": "8b9d606f",
   "metadata": {},
   "outputs": [],
   "source": [
    "df.dtypes"
   ]
  },
  {
   "cell_type": "markdown",
   "id": "bcc3be4d",
   "metadata": {},
   "source": [
    "#### Análisis exploratorio\n",
    "Graficamos precio promedio por barrio"
   ]
  },
  {
   "cell_type": "code",
   "execution_count": null,
   "id": "f3b68925",
   "metadata": {},
   "outputs": [],
   "source": [
    "sns.set_context(context=\"paper\", )\n",
    "sns.set_theme(style=\"darkgrid\")\n",
    "plt.figure(figsize=(15,6))\n",
    "sns.countplot(x=df.barrios.sort_values(ascending = True))\n",
    "plt.title(\"Locales por barrio\")\n",
    "plt.ylabel(\"Cantidad de locales\")\n",
    "plt.xlabel(\"\")\n",
    "plt.xticks(rotation=90)\n",
    "plt.show()"
   ]
  },
  {
   "cell_type": "markdown",
   "id": "31c6f0fa",
   "metadata": {},
   "source": [
    ", por comuna, ver si aumenta el precio por estar en galeria o no."
   ]
  },
  {
   "cell_type": "markdown",
   "id": "4293bd7a",
   "metadata": {},
   "source": []
  },
  {
   "cell_type": "markdown",
   "id": "42857263",
   "metadata": {},
   "source": []
  }
 ],
 "metadata": {
  "kernelspec": {
   "display_name": "Python 3 (ipykernel)",
   "language": "python",
   "name": "python3"
  },
  "language_info": {
   "codemirror_mode": {
    "name": "ipython",
    "version": 3
   },
   "file_extension": ".py",
   "mimetype": "text/x-python",
   "name": "python",
   "nbconvert_exporter": "python",
   "pygments_lexer": "ipython3",
   "version": "3.9.6"
  }
 },
 "nbformat": 4,
 "nbformat_minor": 5
}
