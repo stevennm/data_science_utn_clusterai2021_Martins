{
 "cells": [
  {
   "cell_type": "markdown",
   "id": "a13d5664",
   "metadata": {},
   "source": [
    "## Exploratory Data Analysis - Locales en Venta en CABA"
   ]
  },
  {
   "cell_type": "markdown",
   "id": "9411452b",
   "metadata": {},
   "source": [
    "#### Importamos librerías relevantes\n",
    "Pandas para manejo de data, numpy para operaciones matemáticas, matplolib y seaborn para graficar."
   ]
  },
  {
   "cell_type": "code",
   "execution_count": 2,
   "id": "307a0852",
   "metadata": {},
   "outputs": [],
   "source": [
    "import pandas as pd\n",
    "import numpy as np\n",
    "import matplotlib.pyplot as plt\n",
    "import seaborn as sns"
   ]
  },
  {
   "cell_type": "markdown",
   "id": "cd5afc5f",
   "metadata": {},
   "source": [
    "#### Locales en venta en CABA - 2020\n",
    "El objetivo de este trabajo es predecir el precio de un local en la Ciudad de Buenos Aires a partir de la data disponible en el portal de información del Gobierno de la Ciudad para el 2020: https://data.buenosaires.gob.ar/dataset/locales-en-venta\n",
    "Para lograr esto, en primera instancia se analizará este dataset y se lo limpiará en caso de que sea necesario."
   ]
  },
  {
   "cell_type": "markdown",
   "id": "3beb712f",
   "metadata": {},
   "source": [
    "Leemos el dataset y lo almacenamos en un dataframe:"
   ]
  },
  {
   "cell_type": "code",
   "execution_count": 10,
   "id": "24e00fda",
   "metadata": {},
   "outputs": [],
   "source": [
    "df = pd.read_csv('https://cdn.buenosaires.gob.ar/datosabiertos/datasets/secretaria-de-desarrollo-urbano/locales-en-venta/locales-en-venta-2020.csv')"
   ]
  },
  {
   "cell_type": "markdown",
   "id": "7a632a59",
   "metadata": {},
   "source": [
    "Se pueden ver las siguientes columnas:"
   ]
  },
  {
   "cell_type": "code",
   "execution_count": null,
   "id": "e17fe1ad",
   "metadata": {},
   "outputs": [],
   "source": []
  },
  {
   "cell_type": "markdown",
   "id": "17d4a78e",
   "metadata": {},
   "source": [
    "Se descartan las columnas irrelevantes:\n",
    "- Direccion\n",
    "- Propiedads\n",
    "- PrecioPeso\n",
    "- PesosM2\n",
    "- Cotiz\n",
    "- Trimestre_"
   ]
  },
  {
   "cell_type": "code",
   "execution_count": null,
   "id": "755e8ac8",
   "metadata": {},
   "outputs": [],
   "source": []
  },
  {
   "cell_type": "markdown",
   "id": "907e679f",
   "metadata": {},
   "source": [
    "Describir el dataframe"
   ]
  },
  {
   "cell_type": "code",
   "execution_count": null,
   "id": "6fe5e7c2",
   "metadata": {},
   "outputs": [],
   "source": []
  },
  {
   "cell_type": "markdown",
   "id": "14866766",
   "metadata": {},
   "source": [
    "Reemplazar los valores vacios de \"en galeria\""
   ]
  },
  {
   "cell_type": "code",
   "execution_count": null,
   "id": "d7b35b05",
   "metadata": {},
   "outputs": [],
   "source": []
  },
  {
   "cell_type": "markdown",
   "id": "bcc3be4d",
   "metadata": {},
   "source": [
    "Graficamos precio promedio por barrio, por comuna, ver si aumenta el precio por estar en galeria o no."
   ]
  },
  {
   "cell_type": "code",
   "execution_count": null,
   "id": "e676d587",
   "metadata": {},
   "outputs": [],
   "source": []
  },
  {
   "cell_type": "markdown",
   "id": "3ea073a4",
   "metadata": {},
   "source": []
  }
 ],
 "metadata": {
  "kernelspec": {
   "display_name": "Python 3 (ipykernel)",
   "language": "python",
   "name": "python3"
  },
  "language_info": {
   "codemirror_mode": {
    "name": "ipython",
    "version": 3
   },
   "file_extension": ".py",
   "mimetype": "text/x-python",
   "name": "python",
   "nbconvert_exporter": "python",
   "pygments_lexer": "ipython3",
   "version": "3.9.6"
  }
 },
 "nbformat": 4,
 "nbformat_minor": 5
}
